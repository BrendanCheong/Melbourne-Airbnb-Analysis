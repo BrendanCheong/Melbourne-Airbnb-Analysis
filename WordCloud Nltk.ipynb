{
 "cells": [
  {
   "cell_type": "markdown",
   "metadata": {},
   "source": [
    "# Data Analysis using NLTK\n",
    "\n",
    "- Calcuate the tf-idf matrix to figure out how much weightage a word is to the document\n",
    "- filter out uneccessary words like 'the' etc\n",
    "- group the words into abstract topics, which are groups of words with unseen categories"
   ]
  },
  {
   "cell_type": "code",
   "execution_count": null,
   "metadata": {},
   "outputs": [],
   "source": [
    "import pandas as pd\n",
    "from nltk.tokenize import RegexpTokenizer\n",
    "from sklearn.feature_extraction.text import TfidfVectorizer\n",
    "from sklearn.feature_extraction import text \n",
    "\n",
    "df = pd.read_csv(\"initial_transit_cleaned.csv\")\n",
    "preprocessed = [\" \".join(RegexpTokenizer(r'\\w+').tokenize(df.transit[idx])) for idx in df.index]\n",
    "custom_stop_words = [] # add in specific words if needed, for now use default stop words from nltk\n",
    "my_stop_words = text.ENGLISH_STOP_WORDS.union(custom_stop_words)\n",
    "\n",
    "vectorizer = TfidfVectorizer(min_df = 1, ngram_range = (1,1), \n",
    "                            stop_words = my_stop_words)\n",
    "\n",
    "tfidf = vectorizer.fit_transform(preprocessed)\n",
    "print(f\"Created document-term matrix of size ({tfidf.shape[0]} x {tfidf.shape[1]})\")"
   ]
  },
  {
   "cell_type": "code",
   "execution_count": null,
   "metadata": {},
   "outputs": [],
   "source": [
    "from sklearn import decomposition\n",
    "\n",
    "nmf = decomposition.NMF(init = 'nndsvd', n_components = 1, max_iter = 200) # specific n_components means specify number of abstract topics to group\n",
    "W = nmf.fit_transform(tfidf)\n",
    "H = nmf.components_\n",
    "print(\"Generated Width (document-topic)) matrix of size %s and Height (topic-word) matrix of size %s\" % ( str(W.shape), str(H.shape)))\n",
    "\n",
    "feature_names = vectorizer.get_feature_names()\n",
    "n_top_words = 100 # find top 100 common words\n",
    "\n",
    "# Print top words in each topic\n",
    "for topic_idx, topic in enumerate(H):\n",
    "    print(\"Topic #%d:\" % topic_idx)\n",
    "    print(\" \".join([feature_names[i]\n",
    "                    for i in topic.argsort()[:-n_top_words - 1:-1]]))\n",
    "    print()"
   ]
  },
  {
   "cell_type": "markdown",
   "metadata": {},
   "source": [
    "# Data visualisation using Word Cloud\n",
    "\n",
    "- according to these abstract topics, find the most common/weighted words per topic\n",
    "- put these words into a word cloud"
   ]
  },
  {
   "cell_type": "code",
   "execution_count": null,
   "metadata": {},
   "outputs": [],
   "source": [
    "new_df = pd.DataFrame({\"feature_name\": feature_names})\n",
    "\n",
    "for topic_idx, topic in enumerate(H):\n",
    "    new_df[\"topic_\" + str(topic_idx)] = topic\n",
    "\n",
    "mylist = list(new_df.itertuples())\n",
    "\n",
    "# add more topics if needed\n",
    "transit_topic1 = []\n",
    "\n",
    "for order_id, key, num1 in mylist:\n",
    "    transit_topic1.append((key, num1))\n",
    "\n",
    "transit_topic1 = sorted(transit_topic1, key=lambda myword: myword[1], reverse=True)"
   ]
  },
  {
   "cell_type": "code",
   "execution_count": null,
   "metadata": {},
   "outputs": [],
   "source": [
    "from wordcloud import WordCloud \n",
    "import matplotlib.pyplot as plt\n",
    "\n",
    "%matplotlib inline\n",
    "\n",
    "def draw_wordcloud(dict, topic_number):\n",
    "    wc = WordCloud(max_words=1000, width=1980, height=1200)    \n",
    "    wordcloud = wc.generate_from_frequencies(dict)\n",
    "    wordcloud.to_file(\"top_1000_transit_words.png\")\n",
    "    plt.imshow(wordcloud, interpolation=\"bilinear\")\n",
    "    plt.axis(\"off\")\n",
    "    plt.tight_layout(pad=0)\n",
    "    plt.figure(figsize=(32,32), dpi=1200)  \n",
    "    plt.show()\n",
    "\n",
    "draw_wordcloud(dict(transit_topic1), topic_number=1)"
   ]
  }
 ],
 "metadata": {
  "language_info": {
   "name": "python"
  },
  "orig_nbformat": 4
 },
 "nbformat": 4,
 "nbformat_minor": 2
}
